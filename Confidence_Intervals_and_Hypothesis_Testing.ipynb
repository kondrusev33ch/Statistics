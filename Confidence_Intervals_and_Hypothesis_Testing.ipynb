{
 "cells": [
  {
   "cell_type": "markdown",
   "id": "e362d58b",
   "metadata": {},
   "source": [
    "# Confidence Interval (CI)\n",
    "-----------------\n",
    "Imagine, we have some population we are interested in, let's say 10_000 people, and we want to measure proportion of smokers in it. Only 377 from 10_000 agreed to answer this question, and no way we can get answers from the whole population.  \n",
    "So, even with sample of 377 we can calculate a confidence interval, and be 95% (or other amount) confident that all other sample proportions from the whole population will lay inside our interval. \n",
    "\n",
    "But we need to make some assumptions before calculating confidence interval:\n",
    "1. Sample can be considered a simple random sample\n",
    "2. Large enough sample size\n",
    "\n",
    "By calculating the confidence intervals around any data we collect, we have additional information about the likely values we are trying to estimate and find out how significant the difference is. "
   ]
  },
  {
   "cell_type": "code",
   "execution_count": 18,
   "id": "0d294775",
   "metadata": {},
   "outputs": [],
   "source": [
    "import numpy as np\n",
    "import statsmodels.api as sm\n",
    "import matplotlib.pyplot as plt"
   ]
  },
  {
   "cell_type": "markdown",
   "id": "e25fb034",
   "metadata": {},
   "source": [
    "### Let's start with a One Proportion example"
   ]
  },
  {
   "cell_type": "code",
   "execution_count": 19,
   "id": "64ba11f1",
   "metadata": {},
   "outputs": [
    {
     "data": {
      "text/plain": [
       "array([0, 1, 0, ..., 0, 0, 1])"
      ]
     },
     "execution_count": 19,
     "metadata": {},
     "output_type": "execute_result"
    }
   ],
   "source": [
    "np.random.seed(1)\n",
    "true_proportion = 0.4321\n",
    "\n",
    "# Create population\n",
    "population = np.random.binomial(1, true_proportion, 10_000)\n",
    "population  # array of zeros and ones, simulates smokers proportion in the population"
   ]
  },
  {
   "cell_type": "code",
   "execution_count": 20,
   "id": "7f1e5c9c",
   "metadata": {},
   "outputs": [
    {
     "data": {
      "text/plain": [
       "(0.3666827770648099, 0.4662084696195402)"
      ]
     },
     "execution_count": 20,
     "metadata": {},
     "output_type": "execute_result"
    }
   ],
   "source": [
    "n = 377  # sample size\n",
    "sample = np.random.choice(population, size=n, replace=False)\n",
    "\n",
    "best_estimate = np.mean(sample)  # we have zeros and ones, and can calculate proportion through mean()\n",
    "\n",
    "z = 1.96  # for 95% confidence\n",
    "margin_of_error = z * np.sqrt((best_estimate * (1 - best_estimate)) / n)\n",
    "lcb = best_estimate - margin_of_error  # lower confidence bound\n",
    "ucb = best_estimate + margin_of_error  # upper confidence bound\n",
    "\n",
    "lcb, ucb \n",
    "# You can run this cell multiple times, to see how confidence intervals works"
   ]
  },
  {
   "cell_type": "markdown",
   "id": "a08381e4",
   "metadata": {},
   "source": [
    "We can easily get same results by just using proportion_confint()"
   ]
  },
  {
   "cell_type": "code",
   "execution_count": 21,
   "id": "144a7ad8",
   "metadata": {},
   "outputs": [
    {
     "data": {
      "text/plain": [
       "(0.3666836914687879, 0.46620755521556223)"
      ]
     },
     "execution_count": 21,
     "metadata": {},
     "output_type": "execute_result"
    }
   ],
   "source": [
    "yes = np.sum(sample)\n",
    "sm.stats.proportion_confint(yes, n)"
   ]
  },
  {
   "cell_type": "markdown",
   "id": "777d0645",
   "metadata": {},
   "source": [
    "95% of intervals formed this way expected to cover the true population proportion!  \n",
    "\n",
    "You can find awesome visualization of this process [here](https://seeing-theory.brown.edu/frequentist-inference/index.html#section2), or google for 'seeing-theory.brown.edu'"
   ]
  },
  {
   "cell_type": "markdown",
   "id": "2bb67f2c",
   "metadata": {},
   "source": [
    "### General CI Equation  \n",
    "**BestEstimate** +- **MarginOfError**  \n",
    "We already understand what best estimate is, but let's talk more about margin of error.  \n",
    "**MarginOfError** = 'a few' Estimated Standard Errors, 'a few' (**z** in the first example) = multiplier from appropriate distribution based on desired confidence level and sample design 95% Confidence Level <-> 0.05 Significance  \n",
    "\n",
    "LowerConfidenceBound (**lcb**) = BestEstimate - MarginOfError  \n",
    "UpperConfidenceBound (**ucb**) = BestEstimate + MarginOfError    \n",
    "\n",
    "MarginOfError will be different for different tasks, you'll see later.\n",
    "### z and t multipliers\n",
    "We will use **z** for proportions, and **t** for means.  \n",
    "\n",
    "How to get these multipliers:"
   ]
  },
  {
   "cell_type": "code",
   "execution_count": 22,
   "id": "4e13ab0e",
   "metadata": {},
   "outputs": [
    {
     "data": {
      "text/plain": [
       "1.9662932291779265"
      ]
     },
     "execution_count": 22,
     "metadata": {},
     "output_type": "execute_result"
    }
   ],
   "source": [
    "# Find z: \n",
    "# Google for 'z multiplier for 95 confidence interval' and find tables\n",
    "\n",
    "# Find t:\n",
    "# Similarly to z you can find table, or\n",
    "from scipy.stats import t\n",
    "\n",
    "degree_of_freedom = n - 1  # there is a good explanation of df on YT by Vallia \n",
    "# If you have two independent means, df = n1 + n2 - 2\n",
    "probability = 1 - (1 - 0.95) / 2  \n",
    "t.ppf(probability, degree_of_freedom)"
   ]
  },
  {
   "cell_type": "markdown",
   "id": "fbd88e35",
   "metadata": {},
   "source": [
    "## Proportions\n",
    "$\\hat{p}$ - best estimate (proportion $\\frac{part}{all}$)  \n",
    "$n$ - sample size  \n",
    "$y$ - positive part  \n",
    "\n",
    "\n",
    "### One Proportion\n",
    "**Example**: How much smokers in population.  \n",
    "**Assumptions**:  \n",
    "1. Sample can be considered a simple random sample\n",
    "2. Large enough sample size  \n",
    "\n",
    "**Equation**: $\\hat{p} \\pm z\\sqrt{\\frac{\\hat{p}(1 - \\hat{p})}{n}}$  \n",
    "**Python**: statsmodels.api.stats.proportion_confint($y, n$)\n",
    "\n",
    "### Two Proportions Difference\n",
    "**Example**: Difference between proportion of women (who smokes) and men (who smokes).   \n",
    "**Assumptions**:  \n",
    "1. Samples can be considered two simple random samples\n",
    "2. Samples can be considered independent of one another\n",
    "3. Large enough sample sizes to assume that the distribution of our estimate is normal\n",
    "\n",
    "**Equation**: $(\\hat{p}_1-\\hat{p}_2) \\pm z\\sqrt{\\frac{\\hat{p}_1(1 - \\hat{p}_1)}{n_1} + \\frac{\\hat{p}_2(1 - \\hat{p}_2)}{n_2}}$"
   ]
  },
  {
   "cell_type": "markdown",
   "id": "94eb6616",
   "metadata": {},
   "source": [
    "## Means\n",
    "$a$ - list of all sample means  \n",
    "$\\mu$ - best estimate (mean)   \n",
    "$n$ - sample size   \n",
    "$s$ - standard deviation   \n",
    "\n",
    "### One Mean\n",
    "**Example**: Blood pressure of the population.  \n",
    "**Assumptions**: \n",
    "1. Sample can be considered a simple random sample\n",
    "2. Population of differences is normal or sample is large enough\n",
    "\n",
    "**Equation**: $\\mu \\pm t\\frac{s}{\\sqrt{n}}$  \n",
    "**Python**: statsmodels.api.stats.DescrStatsW($a$).zconfint_mean()\n",
    "\n",
    "### Two Independant Means Difference\n",
    "**Example**: Blood pressure of the women and men.   \n",
    "**Assumptions**: \n",
    "1. Samples can be considered a simple random samples\n",
    "2. Samples can be considered independent of one another\n",
    "3. Population of differences is normal or sample is large enough\n",
    "**Approaches**: *Pooled* if equal population variances else *Unpooled*.  \n",
    "\n",
    "**Equation (Unpooled)**: $(\\mu_1 - \\mu_2) \\pm t\\sqrt{(\\frac{s_1}{\\sqrt{n_1}})^2 + (\\frac{s_2}{\\sqrt{n_2}})^2}$   \n",
    "**Equation (Pooled)**: $(\\mu_1 - \\mu_2) \\pm t\\sqrt{\\frac{(n_1 - 1) s_1^2 + (n_2 - 1) s_2^2} {n_1 + n_2 - 2}} \\sqrt{\\frac{1}{n_1} + \\frac{1}{n_2}}$\n",
    "\n",
    "\n",
    "What if normality doesn't hold? **Mann-Whitney test**.\n",
    "\n",
    "### Two Paired Means Difference\n",
    "**Example**: There should be connection between first and second dataset, for example, measurements taken from the same people before and after an event, or difference between fingers length on dominant hand and not dominant hand of the piano player.  \n",
    "**Assumptions**:  \n",
    "1. Each data point in one data set is related to one, and only one, data point in the other data set\n",
    "2. Random sampling\n",
    "3. Population of differences is normal or sample is large enough\n",
    "\n",
    "**Equation**: $\\mu_{dif} \\pm t\\frac{s_{dif}}{\\sqrt{n}}$   \n",
    "\n",
    "What if normality doesn't hold? **Wilcoxon Signed Rank test**. "
   ]
  },
  {
   "cell_type": "markdown",
   "id": "4ac7f06c",
   "metadata": {},
   "source": [
    "# Hypothesis Testing\n",
    "-------------\n",
    "Hypothesis testing is a form of statistical inference that uses data from a sample to draw conclusions about a population parameter or a population probability distribution. First, a tentative assumption is made about the parameter or distribution. This assumption is called the null hypothesis and is denoted by $H_0$. An alternative hypothesis (denoted $H_a$), which is the opposite of what is stated in the null hypothesis, is then defined. The hypothesis-testing procedure involves using sample data to determine whether or not $H_0$ can be rejected. If $H_0$ is rejected, the statistical conclusion is that the alternative hypothesis $H_a$ is true.\n",
    "\n",
    "### One Proportion Example\n",
    "In previous years 52% of parents believed that electronics and social media was the cause of their teenager's lack of sleep. Do more parents today believe that their teenager's lack of sleep is caused due to electronics and social media?  \n",
    "\n",
    "Hypotheses:  \n",
    "$H_0: \\hat{p} = 0.52$  \n",
    "$H_a: \\hat{p} > 0.52$  \n",
    "Why alternative hypothesis is \">\"? Because \"Do **more** parents today believe ...\"\n",
    "\n",
    "Significance level:  \n",
    "$\\alpha = 0.05$  (standard is 5%, but you can change it)"
   ]
  },
  {
   "cell_type": "code",
   "execution_count": 23,
   "id": "8bc67b84",
   "metadata": {},
   "outputs": [],
   "source": [
    "# Null hypothesis proportion\n",
    "p_null = 0.52\n",
    "\n",
    "# Let's assume we calculated actual proportion and get 0.56\n",
    "p_actual = 0.56\n",
    "n = 1018  # sample size"
   ]
  },
  {
   "cell_type": "markdown",
   "id": "d4d298f8",
   "metadata": {},
   "source": [
    "Is difference between null and actual proportions significant or not? Can we reject the Null Hypothesis ($H_0$)?  \n",
    "We can answer this questions after calculating **Z-test** and **P-value**."
   ]
  },
  {
   "cell_type": "code",
   "execution_count": 24,
   "id": "b96e31d0",
   "metadata": {},
   "outputs": [
    {
     "data": {
      "text/plain": [
       "2.5545334262132955"
      ]
     },
     "execution_count": 24,
     "metadata": {},
     "output_type": "execute_result"
    }
   ],
   "source": [
    "standard_error = np.sqrt(p_null * (1 - p_null) / n)\n",
    "z_test = (p_actual - p_null) / se\n",
    "z_test"
   ]
  },
  {
   "cell_type": "markdown",
   "id": "c3c01dc4",
   "metadata": {},
   "source": [
    "That means that our observed sample proportion is 2.555 null standard errors above our hypothesized population proportion.  \n",
    "Now we need to calculate **P-value**, there are two approaches:\n",
    "1. Google for table, or for oline p-value calculator\n",
    "2. Use scipy library"
   ]
  },
  {
   "cell_type": "code",
   "execution_count": 25,
   "id": "c367baaf",
   "metadata": {},
   "outputs": [
    {
     "data": {
      "text/plain": [
       "0.005316510991822442"
      ]
     },
     "execution_count": 25,
     "metadata": {},
     "output_type": "execute_result"
    }
   ],
   "source": [
    "import scipy.stats.distributions as dist\n",
    "\n",
    "# With standard sinificance level of 0.05\n",
    "p_value = dist.norm.cdf(-np.abs(z_test))  # !!! example for 1 tailed p-value !!!\n",
    "p_value"
   ]
  },
  {
   "cell_type": "markdown",
   "id": "d071f693",
   "metadata": {},
   "source": [
    "Easiest approach to find P-value with python statmodels library."
   ]
  },
  {
   "cell_type": "code",
   "execution_count": 26,
   "id": "1a2a6c62",
   "metadata": {},
   "outputs": [
    {
     "data": {
      "text/plain": [
       "(2.549514696495784, 0.0053936482172321255)"
      ]
     },
     "execution_count": 26,
     "metadata": {},
     "output_type": "execute_result"
    }
   ],
   "source": [
    "z_test, p_value = sm.stats.proportions_ztest(int(n * p_actual),  # positive part\n",
    "                                             n,  # sample size\n",
    "                                             p_null,  # null hypothesis\n",
    "                                             alternative='larger',  # alternative hypothesis\n",
    "                                             prop_var=0.52)\n",
    "z_test, p_value"
   ]
  },
  {
   "cell_type": "code",
   "execution_count": 27,
   "id": "6111f677",
   "metadata": {},
   "outputs": [
    {
     "name": "stdout",
     "output_type": "stream",
     "text": [
      "Reject the null hypothesis!\n"
     ]
    }
   ],
   "source": [
    "if p_value < 0.05:\n",
    "    print('Reject the null hypothesis!')\n",
    "else:\n",
    "    print(\"Can't reject the null hypothesis!\")"
   ]
  },
  {
   "cell_type": "markdown",
   "id": "b456dad2",
   "metadata": {},
   "source": [
    "There is sufficient evidence to conclude that the population proportion of parents with a teenager who believe that electronics and social medial is the cause for lack of sleep is greater than 52%.\n",
    "\n",
    "### Two Proportions Difference Example\n",
    "Is there a significant difference between the population proportions of parents of black children and parents of hispanic children who report that their child has had some swimming lessons?\n",
    "\n",
    "Hypotheses:  \n",
    "$H_0: p_1 - p_2 = 0$  \n",
    "$H_a: p_1 - p_2 \\neq 0$  \n",
    "Alternative allows proportion to be either greater or less than 0 -> **two-tailed test** need more evidence against null hypothesis to reject it!\n",
    "\n",
    "Significance level:  \n",
    "$\\alpha = 0.10$  \n",
    "Since we have two-tailed test, let's increase our significance level. (it's optional)"
   ]
  },
  {
   "cell_type": "code",
   "execution_count": 43,
   "id": "c0b4eede",
   "metadata": {},
   "outputs": [
    {
     "data": {
      "text/plain": [
       "-0.5110545335044571"
      ]
     },
     "execution_count": 43,
     "metadata": {},
     "output_type": "execute_result"
    }
   ],
   "source": [
    "n1 = 247\n",
    "y1 = 91\n",
    "p1 = y1 / n1  # 0.37\n",
    "\n",
    "n2 = 308\n",
    "y2 = 120\n",
    "p2 = y2 / n2  # 0.39\n",
    "\n",
    "# Calculate combined population proportion\n",
    "p = (y1 + y2) / (n1 + n2)  # 0.38\n",
    "\n",
    "# Estimate of the variance of the combined population proportion\n",
    "va = p * (1 - p)  # 0.24\n",
    "\n",
    "# Standard error of the combined population proportion\n",
    "se = np.sqrt(va * (1 / n1 + 1 / n2))  # 0.041\n",
    "\n",
    "z_test = (p1 - p2) / se\n",
    "z_test"
   ]
  },
  {
   "cell_type": "markdown",
   "id": "4e7a0d90",
   "metadata": {},
   "source": [
    "That means that our observed difference in sample proportions is 0.51 estimated standard errors below our hypothesized mean of equal population proportions."
   ]
  },
  {
   "cell_type": "code",
   "execution_count": 44,
   "id": "0b2ab13d",
   "metadata": {},
   "outputs": [
    {
     "data": {
      "text/plain": [
       "0.6093128715165157"
      ]
     },
     "execution_count": 44,
     "metadata": {},
     "output_type": "execute_result"
    }
   ],
   "source": [
    "p_value = 2 * dist.norm.cdf(-np.abs(z_test))\n",
    "p_value"
   ]
  },
  {
   "cell_type": "code",
   "execution_count": 45,
   "id": "f1a797ac",
   "metadata": {},
   "outputs": [
    {
     "name": "stdout",
     "output_type": "stream",
     "text": [
      "Can't reject the null hypothesis!\n"
     ]
    }
   ],
   "source": [
    "if p_value < 0.05:\n",
    "    print('Reject the null hypothesis!')\n",
    "else:\n",
    "    print(\"Can't reject the null hypothesis!\")"
   ]
  },
  {
   "cell_type": "markdown",
   "id": "f6499155",
   "metadata": {},
   "source": [
    "Formally, based on our sample and our p-value, we fail to reject the null hypothesis. We conclude that there is no significant difference between the population proportion."
   ]
  },
  {
   "cell_type": "markdown",
   "id": "789bfc01",
   "metadata": {},
   "source": [
    "*Note: All data assumptions and examples stay the same (look Confidence Intervals part).*\n",
    "## Proportions Test\n",
    "$\\hat{p}$ - best estimate (proportion $\\frac{part}{all}$)   \n",
    "$p_{null}$ - null hypothesis proportion  \n",
    "$n$ - sample size  \n",
    "$y$ - positive part\n",
    "\n",
    "### One Proportion \n",
    "**Equation**: $test = \\frac{\\hat{p} - p_{null}} {\\sqrt{\\frac{p_{null}(1 - p_{null})}{n}}}$  \n",
    "**Python**: statsmodels.api.stats.proportions_ztest($y, n, p_{null},$ altervative=(depends on your $H_a$ sign))\n",
    "\n",
    "### Two Proportions \n",
    "**Equation**: \n",
    "\n",
    "$p_{comb} = \\frac{y_1 + y_2}{n_1 + n_2}$  \n",
    "$test = \\frac{p_1 - p_2}{\\sqrt{ (p_{comb}(1 - p_{comb})) (\\frac{1}{n_1} + \\frac{1}{n_2})}}$  \n"
   ]
  },
  {
   "cell_type": "markdown",
   "id": "207f0730",
   "metadata": {},
   "source": [
    "## Means Test\n",
    "$a$ - list of all sample means    \n",
    "$\\mu$ - best estimate (mean)  \n",
    "$\\mu_{null}$ - null hypothesis mean  \n",
    "$n$ - sample size    \n",
    "$s$ - standard deviation   \n",
    "\n",
    "### One Mean\n",
    "**Equation**: $test = \\frac{\\mu - \\mu_{null}}{\\frac{s}{\\sqrt{n}}}$  \n",
    "**Python**: statsmodels.api.stats.ztest($a,$ value=$\\mu_{null},$ alternative=(depends on your $H_a$ sign))\n",
    "\n",
    "### Two Independant Means Difference\n",
    "**Equation**: $test = \\frac{(\\mu_1 - \\mu_2) - 0}{\\sqrt{\\frac{(n_1 - 1)s_1^2 + (n_2 - 1)s_2^2)}{n_1 + n_2 - 2}} \\sqrt{\\frac{1}{n1} + \\frac{1}{n2}}}$   \n",
    "**Python Z-test**: statsmodels.api.stats.ztest($a_1, a_2$)  \n",
    "**Python T-test**: statsmodels.api.stats.ttest_ind($a_1, a_2$)\n",
    "\n",
    "### Two Paired Means Difference\n",
    "**Equation**: $test = \\frac{\\mu_{diff} - \\mu_{null}}{\\frac{s_diff}{\\sqrt{n}}}$     \n",
    "**Python Z-test**: statsmodels.api.stats.ztest($a$) "
   ]
  }
 ],
 "metadata": {
  "kernelspec": {
   "display_name": "Python 3 (ipykernel)",
   "language": "python",
   "name": "python3"
  },
  "language_info": {
   "codemirror_mode": {
    "name": "ipython",
    "version": 3
   },
   "file_extension": ".py",
   "mimetype": "text/x-python",
   "name": "python",
   "nbconvert_exporter": "python",
   "pygments_lexer": "ipython3",
   "version": "3.9.6"
  }
 },
 "nbformat": 4,
 "nbformat_minor": 5
}
