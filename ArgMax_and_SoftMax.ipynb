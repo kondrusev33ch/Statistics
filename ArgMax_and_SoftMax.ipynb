{
 "cells": [
  {
   "cell_type": "markdown",
   "id": "892c6a38",
   "metadata": {},
   "source": [
    "# ArgMax & SoftMax\n",
    "**Argmax** simply chooses the elemnt with largest value.  \n",
    "**Softmax** takes vector as input and returns normalized, into a probability distribution, vector with the same size, each component will be in the interval from 0 to 1, and sum of all components will be equal to 1. The larger input components will corrspond to larger probabilities.  \n",
    "\n",
    "$[0.34, -0.9, 1.45, 0.77]$ -> ArgMax() -> $[0, 0, 1, 0]$  \n",
    "$[0.34, -0.9, 1.45, 0.77]$ -> SoftMax() -> $[0.17, 0.05, 0.52, 0.26]$  "
   ]
  },
  {
   "cell_type": "code",
   "execution_count": 1,
   "id": "02e2280f",
   "metadata": {},
   "outputs": [
    {
     "data": {
      "text/plain": [
       "[0.17061934427724035,\n",
       " 0.04937454550894284,\n",
       " 0.5177202395607547,\n",
       " 0.2622858706530622]"
      ]
     },
     "execution_count": 1,
     "metadata": {},
     "output_type": "execute_result"
    }
   ],
   "source": [
    "import numpy as np\n",
    "a = np.array([0.34, -0.9, 1.45, 0.77])\n",
    "\n",
    "def softmax_c(arr):\n",
    "    return [np.exp(x) / sum(np.exp(arr)) for x in arr] \n",
    "\n",
    "softmax_c(a)"
   ]
  },
  {
   "cell_type": "code",
   "execution_count": 2,
   "id": "9ee0ea4f",
   "metadata": {},
   "outputs": [
    {
     "data": {
      "text/plain": [
       "array([0.17061934, 0.04937455, 0.51772024, 0.26228587])"
      ]
     },
     "execution_count": 2,
     "metadata": {},
     "output_type": "execute_result"
    }
   ],
   "source": [
    "from scipy.special import softmax\n",
    "softmax(a)"
   ]
  }
 ],
 "metadata": {
  "kernelspec": {
   "display_name": "Python 3 (ipykernel)",
   "language": "python",
   "name": "python3"
  },
  "language_info": {
   "codemirror_mode": {
    "name": "ipython",
    "version": 3
   },
   "file_extension": ".py",
   "mimetype": "text/x-python",
   "name": "python",
   "nbconvert_exporter": "python",
   "pygments_lexer": "ipython3",
   "version": "3.9.6"
  }
 },
 "nbformat": 4,
 "nbformat_minor": 5
}
