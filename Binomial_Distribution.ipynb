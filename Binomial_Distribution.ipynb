{
 "cells": [
  {
   "cell_type": "markdown",
   "id": "1b8a81df",
   "metadata": {},
   "source": [
    "# Binomial Distribution\n",
    "$pr(x|n, p)=\\frac{n!}{x!(n-x)!}p^x(1 - p)^{n-x}$\n",
    "\n",
    "We flipped a coin 10 times, and get 7 heads and 3 tails **(each coin flip is independent of others)**   \n",
    "$x$ = part we got heads (7)  \n",
    "$n$ = times we flipped coin (10)  \n",
    "$p$ = probability to get heads (0.5) Note: probability to get tails = $1 - p$   \n",
    "$x|n = n - x$ = number of times we got tails (3)  "
   ]
  },
  {
   "cell_type": "code",
   "execution_count": 1,
   "id": "eda2baf0",
   "metadata": {},
   "outputs": [
    {
     "data": {
      "text/plain": [
       "120.0"
      ]
     },
     "execution_count": 1,
     "metadata": {},
     "output_type": "execute_result"
    }
   ],
   "source": [
    "from math import factorial as fac\n",
    "\n",
    "x = 7\n",
    "n = 10\n",
    "p = 0.5\n",
    "\n",
    "ways = fac(n) / (fac(x) * fac(n - x))  # how many ways to get 7 heads and 3 tails in 10 shots \n",
    "# to understand what it means imagine sequence 0 0 1, how many combinations can with one 1 and two 0\n",
    "# 0 0 1 \n",
    "# 0 1 0\n",
    "# 1 0 0 \n",
    "ways # so, this is the same, just number of all possible combinations of 1 1 1 1 1 1 1 0 0 0"
   ]
  },
  {
   "cell_type": "code",
   "execution_count": 2,
   "id": "4a281b61",
   "metadata": {},
   "outputs": [
    {
     "data": {
      "text/plain": [
       "0.1171875"
      ]
     },
     "execution_count": 2,
     "metadata": {},
     "output_type": "execute_result"
    }
   ],
   "source": [
    "pr = ways * p**x * (1 - p)**(n - x)\n",
    "pr"
   ]
  },
  {
   "cell_type": "markdown",
   "id": "952a4b35",
   "metadata": {},
   "source": [
    "This means that the probability of 7 heads and 3 tails is 0.12  \n",
    "\n",
    "When you use a binomial distribution to calculate a p-value, it's called a **Binomial Test**.  \n",
    "The **p-value** is the probability of the observed data (7 of 10 heads), plus the probabilities of all other possibilities that are equally likely or rarer.  \n",
    "This means we need to calculate these probabilities: 7/10, 8/10, 9/10, 10/10 for heads and for tails.\n",
    "\n",
    "By calculating the possibilities when tails are equally or more often, we are calculating **two-sided p-value**."
   ]
  },
  {
   "cell_type": "code",
   "execution_count": 3,
   "id": "b11d9b37",
   "metadata": {},
   "outputs": [],
   "source": [
    "def get_prob(x_, n_, p_):\n",
    "    return fac(n_) / (fac(x_) * fac(n_ - x_)) * p_**x_ * (1 - p_)**(n_ - x_)"
   ]
  },
  {
   "cell_type": "code",
   "execution_count": 4,
   "id": "a75b7452",
   "metadata": {},
   "outputs": [
    {
     "data": {
      "text/plain": [
       "0.34375"
      ]
     },
     "execution_count": 4,
     "metadata": {},
     "output_type": "execute_result"
    }
   ],
   "source": [
    "heads_prop = []\n",
    "tails_prop = []\n",
    "for x in range(7, 11):  # 7, 8, 9, 10\n",
    "    heads_prop.append(get_prob(x, n, p))\n",
    "    tails_prop.append(get_prob(x, n, p))\n",
    "    \n",
    "p_value = sum(heads_prop + tails_prop)\n",
    "p_value"
   ]
  }
 ],
 "metadata": {
  "kernelspec": {
   "display_name": "Python 3 (ipykernel)",
   "language": "python",
   "name": "python3"
  },
  "language_info": {
   "codemirror_mode": {
    "name": "ipython",
    "version": 3
   },
   "file_extension": ".py",
   "mimetype": "text/x-python",
   "name": "python",
   "nbconvert_exporter": "python",
   "pygments_lexer": "ipython3",
   "version": "3.9.6"
  }
 },
 "nbformat": 4,
 "nbformat_minor": 5
}
